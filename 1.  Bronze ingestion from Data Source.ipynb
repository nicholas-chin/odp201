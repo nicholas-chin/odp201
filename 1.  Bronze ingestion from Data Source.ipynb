{
 "cells": [
  {
   "cell_type": "markdown",
   "metadata": {
    "application/vnd.databricks.v1+cell": {
     "cellMetadata": {
      "byteLimit": 2048000,
      "rowLimit": 10000
     },
     "inputWidgets": {},
     "nuid": "0e788807-0c3f-4f00-b67f-b0b9f906a849",
     "showTitle": false,
     "tableResultSettingsMap": {},
     "title": ""
    }
   },
   "source": [
    "## Medallion Architecture\n",
    "- https://www.databricks.com/glossary/medallion-architecture\n",
    "- https://learn.microsoft.com/en-us/fabric/onelake/onelake-medallion-lakehouse-architecture\n",
    "- ![](https://www.databricks.com/sites/default/files/inline-images/building-data-pipelines-with-delta-lake-120823.png)"
   ]
  },
  {
   "cell_type": "markdown",
   "metadata": {
    "application/vnd.databricks.v1+cell": {
     "cellMetadata": {
      "byteLimit": 2048000,
      "rowLimit": 10000
     },
     "inputWidgets": {},
     "nuid": "096b2cde-cbf2-4606-ad6f-31516214db74",
     "showTitle": false,
     "tableResultSettingsMap": {},
     "title": ""
    }
   },
   "source": [
    "## Bronze\n",
    "- Data Quality Check before ingesting.\n",
    "- Ingest and combine source data in one structured tabular (rows and columns) format.\n",
    "- Data Quality Check after bronze tasks."
   ]
  },
  {
   "cell_type": "markdown",
   "metadata": {
    "application/vnd.databricks.v1+cell": {
     "cellMetadata": {
      "byteLimit": 2048000,
      "rowLimit": 10000
     },
     "inputWidgets": {},
     "nuid": "b20b1e23-f7bf-4fb0-8c92-2264d57ea02b",
     "showTitle": false,
     "tableResultSettingsMap": {},
     "title": ""
    }
   },
   "source": [
    "## Requirements\n",
    "1. Focus on ingredient weight and calories\n",
    "1. No semi structure data"
   ]
  },
  {
   "cell_type": "code",
   "execution_count": 0,
   "metadata": {
    "application/vnd.databricks.v1+cell": {
     "cellMetadata": {
      "byteLimit": 2048000,
      "rowLimit": 10000
     },
     "inputWidgets": {},
     "nuid": "bd2e976b-9cc5-4558-8f7c-efe438d1bf26",
     "showTitle": true,
     "tableResultSettingsMap": {},
     "title": "Completeness Check (fatal)"
    }
   },
   "outputs": [],
   "source": [
    "select\n",
    "  assert_true(ingredients is not null, \"ingredients must not be null\"),\n",
    "  assert_true(calories is not null, \"calories must not be null\")\n",
    "from\n",
    "  odp_hackathon25.source_drink_recipe.drink_recipe_1;\n",
    "\n",
    "select\n",
    "  assert_true(ingredients is not null, \"ingredients must not be null\"),\n",
    "  assert_true(calories is not null, \"calories must not be null\")\n",
    "from\n",
    "  odp_hackathon25.source_drink_recipe.drink_recipe_2;\n",
    "\n",
    "select\n",
    "  assert_true(ingredients is not null, \"ingredients must not be null\"),\n",
    "  assert_true(calories is not null, \"calories must not be null\")\n",
    "from\n",
    "  odp_hackathon25.source_drink_recipe.drink_recipe_3;\n",
    "\n",
    "select\n",
    "  assert_true(ingredients is not null, \"ingredients must not be null\"),\n",
    "  assert_true(calories is not null, \"calories must not be null\")\n",
    "from\n",
    "  odp_hackathon25.source_drink_recipe.drink_recipe_4;\n",
    "\n",
    "select\n",
    "  assert_true(ingredients is not null, \"ingredients must not be null\"),\n",
    "  assert_true(calories is not null, \"calories must not be null\")\n",
    "from\n",
    "  odp_hackathon25.source_drink_recipe.drink_recipe_5;"
   ]
  },
  {
   "cell_type": "code",
   "execution_count": 0,
   "metadata": {
    "application/vnd.databricks.v1+cell": {
     "cellMetadata": {
      "byteLimit": 2048000,
      "rowLimit": 10000
     },
     "inputWidgets": {},
     "nuid": "3bad1a56-f4b2-4f38-8bf2-cc276fc241a9",
     "showTitle": true,
     "tableResultSettingsMap": {},
     "title": "Uniqueness Check (non fatal)"
    }
   },
   "outputs": [],
   "source": [
    "select \n",
    "  count(drink_name) as recipe_count,\n",
    "  count(distinct drink_name) as unique_name_count,\n",
    "  count(distinct ingredients) as unique_ingredient_count\n",
    "from odp_hackathon25.source_drink_recipe.drink_recipe_1\n",
    "union all\n",
    "select \n",
    "  count(drink_name) as recipe_count,\n",
    "  count(distinct drink_name) as unique_name_count,\n",
    "  count(distinct ingredients) as unique_ingredient_count\n",
    "from odp_hackathon25.source_drink_recipe.drink_recipe_2\n",
    "union all\n",
    "select \n",
    "  count(drink_name) as recipe_count,\n",
    "  count(distinct drink_name) as unique_name_count,\n",
    "  count(distinct ingredients) as unique_ingredient_count\n",
    "from odp_hackathon25.source_drink_recipe.drink_recipe_3\n",
    "union all\n",
    "select \n",
    "  count(drink_name) as recipe_count,\n",
    "  count(distinct drink_name) as unique_name_count,\n",
    "  count(distinct ingredients) as unique_ingredient_count\n",
    "from odp_hackathon25.source_drink_recipe.drink_recipe_4\n",
    "union all\n",
    "select \n",
    "  count(drink_name) as recipe_count,\n",
    "  count(distinct drink_name) as unique_name_count,\n",
    "  count(distinct ingredients) as unique_ingredient_count\n",
    "from odp_hackathon25.source_drink_recipe.drink_recipe_5;"
   ]
  },
  {
   "cell_type": "code",
   "execution_count": 0,
   "metadata": {
    "application/vnd.databricks.v1+cell": {
     "cellMetadata": {
      "byteLimit": 2048000,
      "rowLimit": 10000
     },
     "inputWidgets": {},
     "nuid": "6e761d3a-8ff6-43f1-96be-ee13bf2c7513",
     "showTitle": true,
     "tableResultSettingsMap": {},
     "title": "Ingest and Combine into Bronze"
    }
   },
   "outputs": [],
   "source": [
    "create or replace table odp_hackathon25.bronze.all_drink\n",
    "as\n",
    "select\n",
    "  drink_name, \n",
    "  creation_date,\n",
    "  ingredients.fruit1,\n",
    "  ingredients.fruit1_weight,\n",
    "  ingredients.fruit2,\n",
    "  ingredients.fruit2_weight,\n",
    "  calories,\n",
    "  current_timestamp() as load_ts\n",
    "from odp_hackathon25.source_drink_recipe.drink_recipe_1\n",
    "union all\n",
    "select \n",
    "  drink_name, \n",
    "  creation_date,\n",
    "  ingredients.fruit1,\n",
    "  ingredients.fruit1_weight,\n",
    "  ingredients.fruit2,\n",
    "  ingredients.fruit2_weight,\n",
    "  calories,\n",
    "  current_timestamp() as load_ts\n",
    "from odp_hackathon25.source_drink_recipe.drink_recipe_2\n",
    "union\n",
    "select \n",
    "  drink_name, \n",
    "  creation_date,\n",
    "  ingredients.fruit1,\n",
    "  ingredients.fruit1_weight,\n",
    "  ingredients.fruit2,\n",
    "  ingredients.fruit2_weight,\n",
    "  calories,\n",
    "  current_timestamp() as load_ts\n",
    "from odp_hackathon25.source_drink_recipe.drink_recipe_3\n",
    "union\n",
    "select \n",
    "  drink_name, \n",
    "  creation_date,\n",
    "  ingredients.fruit1,\n",
    "  ingredients.fruit1_weight,\n",
    "  ingredients.fruit2,\n",
    "  ingredients.fruit2_weight,\n",
    "  calories,\n",
    "  current_timestamp() as load_ts\n",
    "from odp_hackathon25.source_drink_recipe.drink_recipe_4\n",
    "union\n",
    "select \n",
    "  drink_name, \n",
    "  creation_date,\n",
    "  ingredients.fruit1,\n",
    "  ingredients.fruit1_weight,\n",
    "  ingredients.fruit2,\n",
    "  ingredients.fruit2_weight,\n",
    "  calories,\n",
    "  current_timestamp() as load_ts\n",
    "from odp_hackathon25.source_drink_recipe.drink_recipe_5;\n",
    "\n",
    "select * from odp_hackathon25.bronze.all_drink;"
   ]
  },
  {
   "cell_type": "code",
   "execution_count": 0,
   "metadata": {
    "application/vnd.databricks.v1+cell": {
     "cellMetadata": {
      "byteLimit": 2048000,
      "rowLimit": 10000
     },
     "inputWidgets": {},
     "nuid": "6d6ae0e2-9156-458d-bf3e-58fa3f298c8d",
     "showTitle": true,
     "tableResultSettingsMap": {},
     "title": "Source Count = Bronze Count"
    }
   },
   "outputs": [],
   "source": [
    "create or replace temporary view source_count\n",
    "as\n",
    "select \n",
    "  count(*) as count\n",
    "from odp_hackathon25.source_drink_recipe.drink_recipe_1\n",
    "union all\n",
    "select \n",
    "  count(*) as count\n",
    "from odp_hackathon25.source_drink_recipe.drink_recipe_2\n",
    "union all\n",
    "select \n",
    "  count(*) as count\n",
    "from odp_hackathon25.source_drink_recipe.drink_recipe_3\n",
    "union all\n",
    "select \n",
    "  count(*) as count\n",
    "from odp_hackathon25.source_drink_recipe.drink_recipe_4\n",
    "union all\n",
    "select \n",
    "  count(*) as count\n",
    "from odp_hackathon25.source_drink_recipe.drink_recipe_5;\n",
    "\n",
    "-- Count Check, Make sure the record count from source is the same as record count from bronze\n",
    "select \n",
    "  assert_true(\n",
    "    count(distinct total_count) = 1,\n",
    "    \"total count of source and bronze must be the same\"\n",
    "  )  \n",
    "from\n",
    "(\n",
    "  select sum(count) as total_count from source_count\n",
    "  union all \n",
    "  select count(*) as total_count from odp_hackathon25.bronze.all_drink\n",
    ")"
   ]
  },
  {
   "cell_type": "markdown",
   "metadata": {
    "application/vnd.databricks.v1+cell": {
     "cellMetadata": {
      "byteLimit": 2048000,
      "rowLimit": 10000
     },
     "inputWidgets": {},
     "nuid": "34bb3b89-47e8-4a40-b779-a55590c73a3a",
     "showTitle": false,
     "tableResultSettingsMap": {},
     "title": ""
    }
   },
   "source": [
    "## End of Bronze Demo"
   ]
  }
 ],
 "metadata": {
  "application/vnd.databricks.v1+notebook": {
   "computePreferences": null,
   "dashboards": [],
   "environmentMetadata": {
    "base_environment": "",
    "environment_version": "3"
   },
   "inputWidgetPreferences": null,
   "language": "sql",
   "notebookMetadata": {
    "pythonIndentUnit": 4
   },
   "notebookName": "1.  Bronze ingestion from Data Source",
   "widgets": {}
  },
  "language_info": {
   "name": "sql"
  }
 },
 "nbformat": 4,
 "nbformat_minor": 0
}
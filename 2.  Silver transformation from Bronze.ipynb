{
 "cells": [
  {
   "cell_type": "markdown",
   "metadata": {
    "application/vnd.databricks.v1+cell": {
     "cellMetadata": {
      "byteLimit": 2048000,
      "rowLimit": 10000
     },
     "inputWidgets": {},
     "nuid": "1ee8f8fd-31c6-4d59-95f1-d7ba06863d5c",
     "showTitle": false,
     "tableResultSettingsMap": {},
     "title": ""
    }
   },
   "source": [
    "## Medallion Architecture\n",
    "- https://www.databricks.com/glossary/medallion-architecture\n",
    "- https://learn.microsoft.com/en-us/fabric/onelake/onelake-medallion-lakehouse-architecture\n",
    "- ![](https://www.databricks.com/sites/default/files/inline-images/building-data-pipelines-with-delta-lake-120823.png)"
   ]
  },
  {
   "cell_type": "markdown",
   "metadata": {
    "application/vnd.databricks.v1+cell": {
     "cellMetadata": {
      "byteLimit": 2048000,
      "rowLimit": 10000
     },
     "inputWidgets": {},
     "nuid": "85568dda-1ed4-4bde-9016-6dd6b2f1df73",
     "showTitle": false,
     "tableResultSettingsMap": {},
     "title": ""
    }
   },
   "source": [
    "## Silver\n",
    "- Define/Draft requirements, examples:\n",
    "  - Calories to Weight Ratio.\n",
    "- Transform and store semi-curate data based on requirements.\n",
    "- Data Quality Check, examples:\n",
    "  1. Uniqueness\n",
    "  1. Completeness\n",
    "  1. Validity\n",
    "  1. Timeliness\n",
    "  1. Accuracy\n",
    "  1. Consistency"
   ]
  },
  {
   "cell_type": "markdown",
   "metadata": {
    "application/vnd.databricks.v1+cell": {
     "cellMetadata": {
      "byteLimit": 2048000,
      "rowLimit": 10000
     },
     "inputWidgets": {},
     "nuid": "faff2a26-ad11-4635-98a4-96c104634c72",
     "showTitle": false,
     "tableResultSettingsMap": {},
     "title": ""
    }
   },
   "source": [
    "## Requirements\n",
    "1. Must have an Unique key for each Recipe. (Completeness)\n",
    "1. Weight must be in float data type. (Validity)\n",
    "1. Ratio of Calories to Total Weight. (New column, >1 indicates less calories per weight)\n",
    "1. If drink name, fruit 1 and fruit 2 are the same, it is the same recipe. (Uniqueness)\n",
    "1. Weight, Calories and Ratio must not be empty. (Completeness)\n",
    "1. Refresh Timestamp must be recorded. (Timeliness)\n",
    "1. Weight must be > 0. (Accuracy)\n",
    "1. All weight must be in the same unit. (Consistency)"
   ]
  },
  {
   "cell_type": "code",
   "execution_count": 0,
   "metadata": {
    "application/vnd.databricks.v1+cell": {
     "cellMetadata": {
      "byteLimit": 2048000,
      "rowLimit": 10000
     },
     "inputWidgets": {},
     "nuid": "c04b32bc-76de-4d30-a386-9d80726ebff4",
     "showTitle": true,
     "tableResultSettingsMap": {},
     "title": "check data types"
    }
   },
   "outputs": [],
   "source": [
    "desc odp_hackathon25.bronze.all_drink"
   ]
  },
  {
   "cell_type": "code",
   "execution_count": 0,
   "metadata": {
    "application/vnd.databricks.v1+cell": {
     "cellMetadata": {
      "byteLimit": 2048000,
      "rowLimit": 10000
     },
     "inputWidgets": {},
     "nuid": "b95c327b-7f55-4b0b-834b-19868b0de82f",
     "showTitle": true,
     "tableResultSettingsMap": {},
     "title": "in real world, silver table is not deleted"
    }
   },
   "outputs": [],
   "source": [
    "drop table if exists odp_hackathon25.silver.drink_calories;"
   ]
  },
  {
   "cell_type": "code",
   "execution_count": 0,
   "metadata": {
    "application/vnd.databricks.v1+cell": {
     "cellMetadata": {
      "byteLimit": 2048000,
      "rowLimit": 10000
     },
     "inputWidgets": {},
     "nuid": "2cd27754-5300-4f34-a56a-568dee63b678",
     "showTitle": true,
     "tableResultSettingsMap": {},
     "title": "Create Table Schema according to requirements"
    }
   },
   "outputs": [],
   "source": [
    "create table if not exists odp_hackathon25.silver.drink_calories\n",
    "(\n",
    "  recipe_key BIGINT generated always as identity,\n",
    "  drink_name\tstring,\n",
    "  creation_date\tdate,\n",
    "  fruit1\tstring,\n",
    "  fruit1_weight\tfloat,\n",
    "  fruit2\tstring,\n",
    "  fruit2_weight\tfloat,\n",
    "  calories\tfloat,\n",
    "  calories_weight_ratio float,\n",
    "  load_ts\ttimestamp\n",
    ")"
   ]
  },
  {
   "cell_type": "code",
   "execution_count": 0,
   "metadata": {
    "application/vnd.databricks.v1+cell": {
     "cellMetadata": {
      "byteLimit": 2048000,
      "rowLimit": 10000
     },
     "inputWidgets": {},
     "nuid": "3a46edf7-26b0-4f57-84cf-e9282287a117",
     "showTitle": true,
     "tableResultSettingsMap": {},
     "title": "incremental load silver table"
    }
   },
   "outputs": [],
   "source": [
    "merge into odp_hackathon25.silver.drink_calories t\n",
    "using (\n",
    "  select \n",
    "    drink_name,\n",
    "    creation_date,\n",
    "    fruit1,\n",
    "    fruit1_weight,\n",
    "    fruit2,\n",
    "    fruit2_weight,\n",
    "    calories,\n",
    "    calories / (cast(fruit1_weight as float) + cast(fruit2_weight as float)) as c_w_ratio\n",
    "  from odp_hackathon25.bronze.all_drink\n",
    ") s\n",
    "on t.drink_name = s.drink_name and t.fruit1 = s.fruit1 and t.fruit2 = s.fruit2\n",
    "when matched then\n",
    "  update set\n",
    "    t.drink_name = s.drink_name,\n",
    "    t.creation_date = s.creation_date,\n",
    "    t.fruit1 = s.fruit1,\n",
    "    t.fruit1_weight = s.fruit1_weight,\n",
    "    t.fruit2 = s.fruit2,\n",
    "    t.fruit2_weight = s.fruit2_weight,\n",
    "    t.calories = s.calories,\n",
    "    t.calories_weight_ratio = s.c_w_ratio,\n",
    "    t.load_ts = current_timestamp()\n",
    "when not matched then\n",
    "  insert \n",
    "    (\n",
    "      drink_name, \n",
    "      creation_date, \n",
    "      fruit1, \n",
    "      fruit1_weight, \n",
    "      fruit2, \n",
    "      fruit2_weight,\n",
    "      calories, \n",
    "      calories_weight_ratio, \n",
    "      load_ts\n",
    "    )\n",
    "    values (\n",
    "      s.drink_name, \n",
    "      s.creation_date, \n",
    "      s.fruit1, \n",
    "      s.fruit1_weight, \n",
    "      s.fruit2, \n",
    "      s.fruit2_weight, \n",
    "      s.calories, \n",
    "      s.c_w_ratio,\n",
    "      current_timestamp()\n",
    "    )"
   ]
  },
  {
   "cell_type": "code",
   "execution_count": 0,
   "metadata": {
    "application/vnd.databricks.v1+cell": {
     "cellMetadata": {
      "byteLimit": 2048000,
      "rowLimit": 10000
     },
     "inputWidgets": {},
     "nuid": "bc31d0f5-9b26-4191-a4cc-21e5a239d7a1",
     "showTitle": true,
     "tableResultSettingsMap": {
      "0": {
       "dataGridStateBlob": "{\"version\":1,\"tableState\":{\"columnPinning\":{\"left\":[\"#row_number#\"],\"right\":[]},\"columnSizing\":{},\"columnVisibility\":{}},\"settings\":{\"columns\":{}},\"syncTimestamp\":1757970196243}",
       "filterBlob": null,
       "queryPlanFiltersBlob": null,
       "tableResultIndex": 0
      }
     },
     "title": "Quality Check"
    }
   },
   "outputs": [],
   "source": [
    "select \n",
    "  assert_true(calories is not null, \"calories must not be null\"),\n",
    "  assert_true((fruit1_weight + fruit2_weight)>0.0, \"fruit weight must be more than 0\"),\n",
    "  assert_true(calories_weight_ratio is not null, \"ratio must not be null\") \n",
    "from odp_hackathon25.silver.drink_calories"
   ]
  },
  {
   "cell_type": "markdown",
   "metadata": {
    "application/vnd.databricks.v1+cell": {
     "cellMetadata": {
      "byteLimit": 2048000,
      "rowLimit": 10000
     },
     "inputWidgets": {},
     "nuid": "8c221abc-a6dd-4aed-8ee0-e5bc3abd0b7c",
     "showTitle": false,
     "tableResultSettingsMap": {},
     "title": ""
    }
   },
   "source": [
    "## End of Silver Demo"
   ]
  }
 ],
 "metadata": {
  "application/vnd.databricks.v1+notebook": {
   "computePreferences": {
    "hardware": {
     "accelerator": null,
     "gpuPoolId": null,
     "memory": null
    }
   },
   "dashboards": [],
   "environmentMetadata": {
    "base_environment": "",
    "environment_version": "3"
   },
   "inputWidgetPreferences": null,
   "language": "sql",
   "notebookMetadata": {
    "pythonIndentUnit": 4
   },
   "notebookName": "2.  Silver transformation from Bronze",
   "widgets": {}
  },
  "language_info": {
   "name": "sql"
  }
 },
 "nbformat": 4,
 "nbformat_minor": 0
}
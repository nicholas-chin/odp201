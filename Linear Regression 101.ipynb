{
 "cells": [
  {
   "cell_type": "markdown",
   "metadata": {
    "application/vnd.databricks.v1+cell": {
     "cellMetadata": {
      "byteLimit": 2048000,
      "rowLimit": 10000
     },
     "inputWidgets": {},
     "nuid": "4f419259-89db-4995-885b-23b6cef20c19",
     "showTitle": false,
     "tableResultSettingsMap": {},
     "title": ""
    }
   },
   "source": [
    "## Data Scientist\n",
    "- Data Exploration\n",
    "- Is there a way to predict the calories by the weight of fruits?"
   ]
  },
  {
   "cell_type": "markdown",
   "metadata": {
    "application/vnd.databricks.v1+cell": {
     "cellMetadata": {
      "byteLimit": 2048000,
      "rowLimit": 10000
     },
     "inputWidgets": {},
     "nuid": "39c2cd47-1bdf-4465-a4bc-6fe02ac74064",
     "showTitle": false,
     "tableResultSettingsMap": {},
     "title": ""
    }
   },
   "source": [
    "## MLflow\n",
    "- https://learn.microsoft.com/en-us/azure/databricks/mlflow/\n",
    "- Tracking: Allows you to track experiments to record and compare parameters and results.\n",
    "- Models: Allow you to manage and deploy models from various ML libraries to various model serving and inference platforms.\n",
    "- Model Registry: Allows you to manage the model deployment process from staging to production, with model versioning and annotation capabilities.\n",
    "- AI agent evaluation and tracing: Allows you to develop high-quality AI agents by helping you compare, evaluate, and troubleshoot agents."
   ]
  },
  {
   "cell_type": "code",
   "execution_count": 0,
   "metadata": {
    "application/vnd.databricks.v1+cell": {
     "cellMetadata": {
      "byteLimit": 2048000,
      "rowLimit": 10000
     },
     "inputWidgets": {},
     "nuid": "b7e47e82-c44d-4856-8c02-f6bf536ec26a",
     "showTitle": true,
     "tableResultSettingsMap": {},
     "title": "install mlflow"
    }
   },
   "outputs": [],
   "source": [
    "%pip install mlflow"
   ]
  },
  {
   "cell_type": "markdown",
   "metadata": {
    "application/vnd.databricks.v1+cell": {
     "cellMetadata": {
      "byteLimit": 2048000,
      "rowLimit": 10000
     },
     "inputWidgets": {},
     "nuid": "66e8e899-bfbe-42c4-82e3-141762ac7415",
     "showTitle": false,
     "tableResultSettingsMap": {},
     "title": ""
    }
   },
   "source": [
    "## Data Preparation"
   ]
  },
  {
   "cell_type": "code",
   "execution_count": 0,
   "metadata": {
    "application/vnd.databricks.v1+cell": {
     "cellMetadata": {
      "byteLimit": 2048000,
      "rowLimit": 10000
     },
     "inputWidgets": {},
     "nuid": "5920b6dd-d31f-401f-9ba3-35a11c3989e9",
     "showTitle": true,
     "tableResultSettingsMap": {},
     "title": "silver table"
    }
   },
   "outputs": [],
   "source": [
    "df = spark.sql(\"select * from odp_hackathon25.silver.drink_calories\")\n",
    "display(df)"
   ]
  },
  {
   "cell_type": "markdown",
   "metadata": {
    "application/vnd.databricks.v1+cell": {
     "cellMetadata": {
      "byteLimit": 2048000,
      "rowLimit": 10000
     },
     "inputWidgets": {},
     "nuid": "fcebd9fd-d70d-41fc-a9ef-219bdcd357d4",
     "showTitle": false,
     "tableResultSettingsMap": {},
     "title": ""
    }
   },
   "source": [
    "## Feature\n",
    "- 1 feature = Total Weight of the fruits in the recipe.\n",
    "- Target is to determine the calories of the recipe."
   ]
  },
  {
   "cell_type": "code",
   "execution_count": 0,
   "metadata": {
    "application/vnd.databricks.v1+cell": {
     "cellMetadata": {
      "byteLimit": 2048000,
      "rowLimit": 10000
     },
     "inputWidgets": {},
     "nuid": "9ccd2edc-b7eb-4fdb-9f3d-95549c822ceb",
     "showTitle": true,
     "tableResultSettingsMap": {},
     "title": "weight is feature, calories is target"
    }
   },
   "outputs": [],
   "source": [
    "feature = [(r.fruit1_weight + r.fruit2_weight) for r in df.select(\"fruit1_weight\",\"fruit2_weight\").collect()]\n",
    "target = [r.calories for r in df.select(\"calories\").collect()]"
   ]
  },
  {
   "cell_type": "markdown",
   "metadata": {
    "application/vnd.databricks.v1+cell": {
     "cellMetadata": {
      "byteLimit": 2048000,
      "rowLimit": 10000
     },
     "inputWidgets": {},
     "nuid": "8b067e1b-f3d8-4815-a80d-768b3675f8a2",
     "showTitle": false,
     "tableResultSettingsMap": {},
     "title": ""
    }
   },
   "source": [
    "## SciKit Learn\n",
    "- Using sklearn Linear Model and pandas dataframe\n",
    "- Spark also has Linear Regression model"
   ]
  },
  {
   "cell_type": "code",
   "execution_count": 0,
   "metadata": {
    "application/vnd.databricks.v1+cell": {
     "cellMetadata": {
      "byteLimit": 2048000,
      "rowLimit": 10000
     },
     "inputWidgets": {},
     "nuid": "8e10f8c8-d7b4-4295-a59d-b3afb296c917",
     "showTitle": true,
     "tableResultSettingsMap": {},
     "title": "linear regression and pandas"
    }
   },
   "outputs": [],
   "source": [
    "import pandas as pd\n",
    "from sklearn.linear_model import LinearRegression\n",
    "\n",
    "data = {'feature': feature,\n",
    "        'target': target}\n",
    "pdf = pd.DataFrame(data)\n",
    "\n",
    "X = pdf[['feature']]  # Independent variables\n",
    "y = pdf['target']  # Dependent variable"
   ]
  },
  {
   "cell_type": "markdown",
   "metadata": {
    "application/vnd.databricks.v1+cell": {
     "cellMetadata": {
      "byteLimit": 2048000,
      "rowLimit": 10000
     },
     "inputWidgets": {},
     "nuid": "ffcc658e-5593-419e-9ce8-7697adf9849a",
     "showTitle": false,
     "tableResultSettingsMap": {},
     "title": ""
    }
   },
   "source": [
    "## MLflow autolog()\n",
    "- Apart from tracking, the best part is auto generated Metrics\n",
    "- Check the R2 metrics in the run below"
   ]
  },
  {
   "cell_type": "code",
   "execution_count": 0,
   "metadata": {
    "application/vnd.databricks.v1+cell": {
     "cellMetadata": {
      "byteLimit": 2048000,
      "rowLimit": 10000
     },
     "inputWidgets": {},
     "nuid": "bfcbd2c7-d8ba-44e9-8b64-04b6ef89069c",
     "showTitle": true,
     "tableResultSettingsMap": {},
     "title": "train the model"
    }
   },
   "outputs": [],
   "source": [
    "import mlflow\n",
    "\n",
    "mlflow.autolog()\n",
    "\n",
    "with mlflow.start_run():\n",
    "    model = LinearRegression()\n",
    "    model.fit(X, y)"
   ]
  },
  {
   "cell_type": "markdown",
   "metadata": {
    "application/vnd.databricks.v1+cell": {
     "cellMetadata": {},
     "inputWidgets": {},
     "nuid": "89abd524-afa7-4ae0-9e3f-43bb938e726d",
     "showTitle": false,
     "tableResultSettingsMap": {},
     "title": ""
    }
   },
   "source": [
    "## Metrics\n",
    "- Coefficients: The slope\n",
    "- Intercept: When feature is zero"
   ]
  },
  {
   "cell_type": "code",
   "execution_count": 0,
   "metadata": {
    "application/vnd.databricks.v1+cell": {
     "cellMetadata": {
      "byteLimit": 2048000,
      "rowLimit": 10000
     },
     "inputWidgets": {},
     "nuid": "3936ab99-cebb-4652-bd13-00b9aa3d3071",
     "showTitle": true,
     "tableResultSettingsMap": {},
     "title": "model metrics"
    }
   },
   "outputs": [],
   "source": [
    "print(f\"Coefficients: {model.coef_}\")\n",
    "print(f\"Intercept: {model.intercept_}\")"
   ]
  },
  {
   "cell_type": "markdown",
   "metadata": {
    "application/vnd.databricks.v1+cell": {
     "cellMetadata": {},
     "inputWidgets": {},
     "nuid": "b0ffffba-0c2c-4baa-9905-8ffb75bcf34b",
     "showTitle": false,
     "tableResultSettingsMap": {},
     "title": ""
    }
   },
   "source": [
    "## Test the model\n",
    "- Test 3 weights"
   ]
  },
  {
   "cell_type": "code",
   "execution_count": 0,
   "metadata": {
    "application/vnd.databricks.v1+cell": {
     "cellMetadata": {
      "byteLimit": 2048000,
      "rowLimit": 10000
     },
     "inputWidgets": {},
     "nuid": "ed0b3370-4472-463d-9394-f2ee5b28763e",
     "showTitle": true,
     "tableResultSettingsMap": {},
     "title": "test the model"
    }
   },
   "outputs": [],
   "source": [
    "new_data = pd.DataFrame({'feature': [100.0,200.0,250.0]})\n",
    "predictions = model.predict(new_data)\n",
    "print(f\"Predictions: {predictions}\")"
   ]
  },
  {
   "cell_type": "markdown",
   "metadata": {
    "application/vnd.databricks.v1+cell": {
     "cellMetadata": {},
     "inputWidgets": {},
     "nuid": "715c3c63-ad25-4173-937b-0821805d7a75",
     "showTitle": false,
     "tableResultSettingsMap": {},
     "title": ""
    }
   },
   "source": [
    "## Prepare data for plot\n",
    "- Input 1000 random data to plot the result"
   ]
  },
  {
   "cell_type": "code",
   "execution_count": 0,
   "metadata": {
    "application/vnd.databricks.v1+cell": {
     "cellMetadata": {
      "byteLimit": 2048000,
      "rowLimit": 10000
     },
     "inputWidgets": {},
     "nuid": "d7f3b2a6-58d7-4950-85a3-276a4b537f30",
     "showTitle": true,
     "tableResultSettingsMap": {},
     "title": "prepare data for plot"
    }
   },
   "outputs": [],
   "source": [
    "import random\n",
    "\n",
    "# data for visualization\n",
    "plot_feature = [random.uniform(100, 700) for _ in range(1000)]\n",
    "plot_data = pd.DataFrame(\n",
    "    {\n",
    "        'feature': plot_feature\n",
    "    }\n",
    ")\n",
    "predictions = model.predict(plot_data)\n",
    "# show the first 10\n",
    "print(f\"Predictions: {predictions[:10]}\")"
   ]
  },
  {
   "cell_type": "markdown",
   "metadata": {
    "application/vnd.databricks.v1+cell": {
     "cellMetadata": {},
     "inputWidgets": {},
     "nuid": "f3113806-55a1-4d6a-ae23-cad231f889f7",
     "showTitle": false,
     "tableResultSettingsMap": {},
     "title": ""
    }
   },
   "source": [
    "## Visualization\n",
    "- Explain and Visual the model"
   ]
  },
  {
   "cell_type": "code",
   "execution_count": 0,
   "metadata": {
    "application/vnd.databricks.v1+cell": {
     "cellMetadata": {
      "byteLimit": 2048000,
      "rowLimit": 10000
     },
     "inputWidgets": {},
     "nuid": "7ed4585a-5d76-40c8-8dc7-76e4b9ea5923",
     "showTitle": true,
     "tableResultSettingsMap": {},
     "title": "plot the model"
    }
   },
   "outputs": [],
   "source": [
    "import matplotlib.pyplot as plt\n",
    "from sklearn.linear_model import LinearRegression\n",
    "import numpy as np\n",
    "\n",
    "# Data from Silver table\n",
    "X = np.array(feature).reshape(-1, 1) # Features (must be 2D)\n",
    "y = np.array(target)\n",
    "\n",
    "# Plot Data\n",
    "plot_X = np.array(plot_feature).reshape(-1, 1)\n",
    "\n",
    "# Make predictions\n",
    "y_pred = model.predict(plot_data)\n",
    "\n",
    "# Plotting\n",
    "plt.scatter(X, y, label='Actual Data')\n",
    "plt.plot(plot_X, y_pred, color='red', label='Regression Line')\n",
    "plt.xlabel('Feature')\n",
    "plt.ylabel('Target')\n",
    "plt.title('Linear Regression Fit')\n",
    "plt.legend()\n",
    "plt.grid(True)\n",
    "plt.show()"
   ]
  },
  {
   "cell_type": "markdown",
   "metadata": {
    "application/vnd.databricks.v1+cell": {
     "cellMetadata": {
      "byteLimit": 2048000,
      "rowLimit": 10000
     },
     "inputWidgets": {},
     "nuid": "9f5f98bf-dacf-4f1e-bda9-512677239a6a",
     "showTitle": false,
     "tableResultSettingsMap": {},
     "title": ""
    }
   },
   "source": [
    "## Register Model via UI\n",
    "- Test the model logged in mlflow\n",
    "- Click on the run at cell 11: Train the Model\n",
    "- Register model for sharing"
   ]
  },
  {
   "cell_type": "code",
   "execution_count": 0,
   "metadata": {
    "application/vnd.databricks.v1+cell": {
     "cellMetadata": {
      "byteLimit": 2048000,
      "rowLimit": 10000
     },
     "inputWidgets": {},
     "nuid": "84725134-ace2-4aa9-8f64-09cd2cc7ede4",
     "showTitle": true,
     "tableResultSettingsMap": {},
     "title": "test mlflow model"
    }
   },
   "outputs": [],
   "source": [
    "import mlflow\n",
    "logged_model = 'runs:/711d662a4afc4474b185388d1d7a4e97/model'\n",
    "\n",
    "# Load model as a PyFuncModel.\n",
    "loaded_model = mlflow.pyfunc.load_model(logged_model)\n",
    "\n",
    "# Predict on a Pandas DataFrame.\n",
    "import pandas as pd\n",
    "\n",
    "test_data = pd.DataFrame({'feature': [100.0,200.0,350.0]})\n",
    "loaded_model.predict(test_data)"
   ]
  },
  {
   "cell_type": "markdown",
   "metadata": {
    "application/vnd.databricks.v1+cell": {
     "cellMetadata": {
      "byteLimit": 2048000,
      "rowLimit": 10000
     },
     "inputWidgets": {},
     "nuid": "0783301f-fce8-4ad1-b110-e38051ffe9a1",
     "showTitle": false,
     "tableResultSettingsMap": {},
     "title": ""
    }
   },
   "source": [
    "## End of Linear Regression 101 Demo"
   ]
  }
 ],
 "metadata": {
  "application/vnd.databricks.v1+notebook": {
   "computePreferences": {
    "hardware": {
     "accelerator": null,
     "gpuPoolId": null,
     "memory": null
    }
   },
   "dashboards": [],
   "environmentMetadata": {
    "base_environment": "",
    "environment_version": "3"
   },
   "inputWidgetPreferences": null,
   "language": "python",
   "notebookMetadata": {
    "pythonIndentUnit": 4
   },
   "notebookName": "Linear Regression 101",
   "widgets": {}
  },
  "language_info": {
   "name": "python"
  }
 },
 "nbformat": 4,
 "nbformat_minor": 0
}